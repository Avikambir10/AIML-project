{
 "cells": [
  {
   "cell_type": "code",
   "execution_count": 2,
   "metadata": {},
   "outputs": [],
   "source": [
    "import pandas as pd\n",
    "import numpy as np\n",
    "import matplotlib.pyplot as plt\n",
    "import seaborn as sns"
   ]
  },
  {
   "cell_type": "code",
   "execution_count": 3,
   "metadata": {},
   "outputs": [],
   "source": [
    "df = pd.read_csv('titanic.csv')\n",
    "# print(df.columns)"
   ]
  },
  {
   "cell_type": "code",
   "execution_count": 4,
   "metadata": {},
   "outputs": [],
   "source": [
    "Sex = pd.get_dummies(df['Sex'])\n",
    "Sex = Sex[['male', 'female']].replace({True : 1, False : 0})\n",
    "Embarked = pd.get_dummies(df['Embarked'])\n",
    "Embarked = Embarked[['C', 'Q', 'S']].replace({True : 1, False : 0})"
   ]
  },
  {
   "cell_type": "code",
   "execution_count": 5,
   "metadata": {},
   "outputs": [],
   "source": [
    "df = df.drop(columns=['Name', 'Ticket', 'Cabin', 'Sex', 'Embarked', 'PassengerId'])\n",
    "df = pd.concat([df, Sex, Embarked], axis = 1)"
   ]
  },
  {
   "cell_type": "code",
   "execution_count": 6,
   "metadata": {},
   "outputs": [],
   "source": [
    "# print(df.dtypes)\n",
    "\n",
    "# correlation_matrix = df.corr()\n",
    "# sns.heatmap(correlation_matrix, cmap='coolwarm')\n",
    "# plt.show()"
   ]
  },
  {
   "cell_type": "code",
   "execution_count": 7,
   "metadata": {},
   "outputs": [],
   "source": [
    "# print(df['Age'].corr(df['Fare']))\n",
    "\n",
    "# sns.countplot(x = 'Survived', hue='Pclass', data=df)\n",
    "# plt.show()\n",
    "\n",
    "# sns.displot(df['Age'].dropna(), bins=40)\n",
    "# plt.show()\n",
    "\n",
    "class1 = df[df['Pclass'] == 1]\n",
    "# print(class1['Age'].mean())\n",
    "\n",
    "class2 = df[df['Pclass'] == 2]\n",
    "\n",
    "class3 = df[df['Pclass'] == 3]"
   ]
  },
  {
   "cell_type": "code",
   "execution_count": 8,
   "metadata": {},
   "outputs": [],
   "source": [
    "#                                                                            Fill Null Values\n",
    "def fill(age, pclass):\n",
    "    if pd.isnull(age):\n",
    "        if pclass == 1:\n",
    "            return 38\n",
    "        elif pclass == 2:\n",
    "            return 30\n",
    "        else:\n",
    "            return 25\n",
    "    else:\n",
    "        return age\n",
    "    \n",
    "\n",
    "for i in range(len(df)):\n",
    "    df.loc[i, 'Age'] = fill(df.loc[i, 'Age'], df.loc[i, 'Pclass'])    "
   ]
  },
  {
   "cell_type": "code",
   "execution_count": 9,
   "metadata": {},
   "outputs": [],
   "source": [
    "#                                                                            Train Test Split \n",
    "from sklearn.model_selection import train_test_split\n",
    "\n",
    "x = df.drop(columns=['Survived'])\n",
    "y = df['Survived']\n",
    "\n",
    "x_train, x_test, y_train, y_test = train_test_split(x, y, test_size=0.2, random_state=42)\n",
    "\n",
    "\n",
    "\n",
    "#  "
   ]
  },
  {
   "cell_type": "code",
   "execution_count": 10,
   "metadata": {},
   "outputs": [],
   "source": [
    "#                                                                            Standardization \n",
    "from sklearn.preprocessing import StandardScaler\n",
    "\n",
    "scaler = StandardScaler()\n",
    "\n",
    "x_train_scaled = scaler.fit_transform(x_train)\n",
    "x_test_scaled = scaler.transform(x_test)\n",
    "\n"
   ]
  },
  {
   "cell_type": "code",
   "execution_count": 11,
   "metadata": {},
   "outputs": [
    {
     "name": "stdout",
     "output_type": "stream",
     "text": [
      "Logistic Regression Accuracy score -  0.8212290502793296\n"
     ]
    }
   ],
   "source": [
    "            #       Logistic Regression\n",
    "from sklearn.linear_model import LogisticRegression\n",
    "\n",
    "model = LogisticRegression()\n",
    "\n",
    "model.fit(x_train_scaled, y_train)\n",
    "y_pred = model.predict(x_test_scaled)\n",
    "\n",
    "from sklearn.metrics import accuracy_score\n",
    "\n",
    "accu = accuracy_score(y_pred, y_test)\n",
    "print(\"Logistic Regression Accuracy score - \", accu)"
   ]
  },
  {
   "cell_type": "code",
   "execution_count": 12,
   "metadata": {},
   "outputs": [
    {
     "name": "stdout",
     "output_type": "stream",
     "text": [
      "SVM Accuracy score -  0.7821229050279329\n"
     ]
    }
   ],
   "source": [
    "#                                                                            Support Vector Machine\n",
    "from sklearn import svm\n",
    "svm = svm.SVC\n",
    "\n",
    "model2 = svm(kernel = 'linear', C=7, degree=1)\n",
    "# model2 = svm(kernel = 'rbf', C=7, gamma = 'scale')\n",
    "\n",
    "model2.fit(x_train_scaled, y_train)\n",
    "y_pred2 = model2.predict(x_test_scaled)\n",
    "from sklearn.metrics import accuracy_score\n",
    "\n",
    "print(\"SVM Accuracy score - \", accuracy_score(y_pred2, y_test))\n",
    "\n"
   ]
  },
  {
   "cell_type": "code",
   "execution_count": 13,
   "metadata": {},
   "outputs": [
    {
     "name": "stdout",
     "output_type": "stream",
     "text": [
      "Decision Tree Accuracy Score -  0.7821229050279329\n"
     ]
    }
   ],
   "source": [
    "\n",
    "#                                                                            Decision Tree Classifier\n",
    "from sklearn.tree import DecisionTreeClassifier\n",
    "\n",
    "model3 = DecisionTreeClassifier()\n",
    "\n",
    "model3.fit(x_train_scaled, y_train)\n",
    "y_pred3 = model3.predict(x_test_scaled)\n",
    "\n",
    "print(\"Decision Tree Accuracy Score - \", accuracy_score(y_pred3, y_test))"
   ]
  }
 ],
 "metadata": {
  "kernelspec": {
   "display_name": "base",
   "language": "python",
   "name": "python3"
  },
  "language_info": {
   "codemirror_mode": {
    "name": "ipython",
    "version": 3
   },
   "file_extension": ".py",
   "mimetype": "text/x-python",
   "name": "python",
   "nbconvert_exporter": "python",
   "pygments_lexer": "ipython3",
   "version": "3.9.13"
  }
 },
 "nbformat": 4,
 "nbformat_minor": 2
}
